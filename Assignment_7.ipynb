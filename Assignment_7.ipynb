{
  "nbformat": 4,
  "nbformat_minor": 0,
  "metadata": {
    "colab": {
      "provenance": []
    },
    "kernelspec": {
      "name": "python3",
      "display_name": "Python 3"
    },
    "language_info": {
      "name": "python"
    }
  },
  "cells": [
    {
      "cell_type": "code",
      "execution_count": 1,
      "metadata": {
        "colab": {
          "base_uri": "https://localhost:8080/",
          "height": 0
        },
        "id": "Nt30g5KTFV4B",
        "outputId": "b45d5e75-77bc-4097-88d7-da4aa2a63e50"
      },
      "outputs": [
        {
          "output_type": "stream",
          "name": "stdout",
          "text": [
            "Result of the integral: 0.3273627864342789\n",
            "Estimated error: 1.8249311445990213e-11\n"
          ]
        }
      ],
      "source": [
        "#ASSIGNMENT 7 Q3\n",
        "import numpy as np\n",
        "from scipy.integrate import quad\n",
        "\n",
        "# Define the integrand function\n",
        "def integrand(x):\n",
        "    return (1 + np.log(x)) * np.sqrt(1 + (x * np.log(x))**2)\n",
        "\n",
        "# Define the limits of integration\n",
        "lower_limit = 0.2\n",
        "upper_limit = 1\n",
        "\n",
        "# Perform the numerical integration\n",
        "result, error = quad(integrand, lower_limit, upper_limit)\n",
        "\n",
        "# Print the result\n",
        "print(\"Result of the integral:\", result)\n",
        "print(\"Estimated error:\", error)\n"
      ]
    },
    {
      "cell_type": "code",
      "source": [
        "#Q2\n",
        "\n",
        "import random\n",
        "import math\n",
        "\n",
        "# Define functions\n",
        "def f1(x):\n",
        "    return math.sin(x)\n",
        "\n",
        "def f2(x):\n",
        "    return -3 * x / (7 * math.pi)\n",
        "\n",
        "# Domain\n",
        "a = 0\n",
        "b = 7 * math.pi / 6\n",
        "\n",
        "# Estimate bounding box (min and max y-values)\n",
        "y_min = -0.5\n",
        "y_max = 1\n",
        "\n",
        "# Monte Carlo simulation\n",
        "N = 100000\n",
        "count = 0\n",
        "\n",
        "for _ in range(N):\n",
        "    x = random.uniform(a, b)\n",
        "    y = random.uniform(y_min, y_max)\n",
        "    top = f1(x)\n",
        "    bottom = f2(x)\n",
        "    if bottom < y < top:\n",
        "        count += 1\n",
        "\n",
        "# Area of bounding box\n",
        "box_area = (b - a) * (y_max - y_min)\n",
        "\n",
        "# Estimated area\n",
        "area_estimate = (count / N) * box_area\n",
        "print(f\"Estimated area = {area_estimate}\")\n"
      ],
      "metadata": {
        "colab": {
          "base_uri": "https://localhost:8080/"
        },
        "id": "UNhmT1bDPCZp",
        "outputId": "3a77331e-1513-419a-f822-d5fcf543bb33"
      },
      "execution_count": 2,
      "outputs": [
        {
          "output_type": "stream",
          "name": "stdout",
          "text": [
            "Estimated area = 2.779626202024811\n"
          ]
        }
      ]
    }
  ]
}