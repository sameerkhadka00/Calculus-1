{
  "nbformat": 4,
  "nbformat_minor": 0,
  "metadata": {
    "colab": {
      "provenance": []
    },
    "kernelspec": {
      "name": "python3",
      "display_name": "Python 3"
    },
    "language_info": {
      "name": "python"
    }
  },
  "cells": [
    {
      "cell_type": "code",
      "execution_count": 1,
      "metadata": {
        "id": "Nt30g5KTFV4B",
        "outputId": "b45d5e75-77bc-4097-88d7-da4aa2a63e50",
        "colab": {
          "base_uri": "https://localhost:8080/"
        }
      },
      "outputs": [
        {
          "output_type": "stream",
          "name": "stdout",
          "text": [
            "Result of the integral: 0.3273627864342789\n",
            "Estimated error: 1.8249311445990213e-11\n"
          ]
        }
      ],
      "source": [
        "#ASSIGNMENT 7 Q3\n",
        "import numpy as np\n",
        "from scipy.integrate import quad\n",
        "\n",
        "# Define the integrand function\n",
        "def integrand(x):\n",
        "    return (1 + np.log(x)) * np.sqrt(1 + (x * np.log(x))**2)\n",
        "\n",
        "# Define the limits of integration\n",
        "lower_limit = 0.2\n",
        "upper_limit = 1\n",
        "\n",
        "# Perform the numerical integration\n",
        "result, error = quad(integrand, lower_limit, upper_limit)\n",
        "\n",
        "# Print the result\n",
        "print(\"Result of the integral:\", result)\n",
        "print(\"Estimated error:\", error)\n"
      ]
    }
  ]
}
